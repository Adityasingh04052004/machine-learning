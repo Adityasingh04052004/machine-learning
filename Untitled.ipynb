{
 "cells": [
  {
   "cell_type": "code",
   "execution_count": 1,
   "id": "9f04aba3",
   "metadata": {},
   "outputs": [],
   "source": [
    "name=\"Aditya\"\n",
    "def greet(name):\n",
    "    print(\"Hello,\"+ name + \"{\")"
   ]
  },
  {
   "cell_type": "code",
   "execution_count": 2,
   "id": "9277cfb0",
   "metadata": {},
   "outputs": [
    {
     "data": {
      "text/plain": [
       "6"
      ]
     },
     "execution_count": 2,
     "metadata": {},
     "output_type": "execute_result"
    }
   ],
   "source": [
    "def add(a,b):\n",
    "    return a+b\n",
    "add(2,4)"
   ]
  },
  {
   "cell_type": "code",
   "execution_count": 3,
   "id": "f93fbb04",
   "metadata": {},
   "outputs": [
    {
     "data": {
      "text/plain": [
       "4"
      ]
     },
     "execution_count": 3,
     "metadata": {},
     "output_type": "execute_result"
    }
   ],
   "source": [
    "def exponent(a,b=2):\n",
    "    c=a**b\n",
    "    return c\n",
    "exponent(2,)"
   ]
  },
  {
   "cell_type": "code",
   "execution_count": 4,
   "id": "421be3f5",
   "metadata": {},
   "outputs": [
    {
     "data": {
      "text/plain": [
       "(18, 'aditya')"
      ]
     },
     "execution_count": 4,
     "metadata": {},
     "output_type": "execute_result"
    }
   ],
   "source": [
    "def person(name,age):\n",
    "    return name,age\n",
    "b,a=person(\"aditya\",18)\n",
    "a,b"
   ]
  },
  {
   "cell_type": "code",
   "execution_count": 5,
   "id": "59d8a3e1",
   "metadata": {},
   "outputs": [],
   "source": [
    "c=15\n",
    "def update():\n",
    "    global c\n",
    "    c=10\n",
    "update()"
   ]
  },
  {
   "cell_type": "code",
   "execution_count": 6,
   "id": "84f98e93",
   "metadata": {},
   "outputs": [
    {
     "data": {
      "text/plain": [
       "10"
      ]
     },
     "execution_count": 6,
     "metadata": {},
     "output_type": "execute_result"
    }
   ],
   "source": [
    "c"
   ]
  },
  {
   "cell_type": "code",
   "execution_count": 7,
   "id": "07f64e47",
   "metadata": {},
   "outputs": [],
   "source": [
    "#RECURSION\n",
    "def factorial(n):\n",
    "    if n==0 or n==1:\n",
    "        return 1\n",
    "    else:\n",
    "        return n*factorial(n-1)\n",
    "    factorial(5)\n",
    "    "
   ]
  },
  {
   "cell_type": "code",
   "execution_count": 8,
   "id": "01845835",
   "metadata": {},
   "outputs": [
    {
     "name": "stdout",
     "output_type": "stream",
     "text": [
      "25\n"
     ]
    }
   ],
   "source": [
    "exp=lambda x,y:x**y #lambda is \n",
    "print(exp(5,2))"
   ]
  },
  {
   "cell_type": "code",
   "execution_count": 9,
   "id": "502e9dd0",
   "metadata": {},
   "outputs": [
    {
     "name": "stdout",
     "output_type": "stream",
     "text": [
      "[1, 4, 9]\n"
     ]
    }
   ],
   "source": [
    "l1 =[1,2,3]\n",
    "new_l = list(map(lambda x:x**2,l1))\n",
    "print(new_l)"
   ]
  },
  {
   "cell_type": "code",
   "execution_count": 17,
   "id": "ff6c8dff",
   "metadata": {},
   "outputs": [
    {
     "data": {
      "text/plain": [
       "6"
      ]
     },
     "execution_count": 17,
     "metadata": {},
     "output_type": "execute_result"
    }
   ],
   "source": [
    "def length(l):\n",
    "    return len(l)\n",
    "length(\"aditya\")\n",
    "\n",
    "    \n"
   ]
  },
  {
   "cell_type": "code",
   "execution_count": 25,
   "id": "56820fd4",
   "metadata": {},
   "outputs": [
    {
     "name": "stdout",
     "output_type": "stream",
     "text": [
      "hello\n",
      "TIME 0.0\n"
     ]
    }
   ],
   "source": [
    "import time\n",
    "def timetaken(func):\n",
    "    def wrapper():\n",
    "        st=time.time()\n",
    "        func()\n",
    "        end=time.time()\n",
    "        print(\"TIME\",end-st)\n",
    "    return wrapper\n",
    "@timetaken #defarator\n",
    "def func():\n",
    "    print(\"hello\")\n",
    "    \n",
    "func()\n"
   ]
  },
  {
   "cell_type": "code",
   "execution_count": null,
   "id": "e4379a83",
   "metadata": {},
   "outputs": [],
   "source": []
  }
 ],
 "metadata": {
  "kernelspec": {
   "display_name": "Python 3 (ipykernel)",
   "language": "python",
   "name": "python3"
  },
  "language_info": {
   "codemirror_mode": {
    "name": "ipython",
    "version": 3
   },
   "file_extension": ".py",
   "mimetype": "text/x-python",
   "name": "python",
   "nbconvert_exporter": "python",
   "pygments_lexer": "ipython3",
   "version": "3.11.5"
  }
 },
 "nbformat": 4,
 "nbformat_minor": 5
}
