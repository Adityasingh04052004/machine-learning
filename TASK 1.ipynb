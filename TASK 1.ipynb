{
 "cells": [
  {
   "cell_type": "code",
   "execution_count": 12,
   "id": "0a11de49",
   "metadata": {},
   "outputs": [
    {
     "name": "stdout",
     "output_type": "stream",
     "text": [
      "enter the number100\n"
     ]
    }
   ],
   "source": [
    "num=int(input(\"enter the number\")) #PRIME Q1\n",
    "for i in range(2,num):\n",
    "    for j in range(2,num):\n",
    "        if i%j==0:\n",
    "            break \n",
    "if i==j:\n",
    "    print(i,end=\",)\n"
   ]
  },
  {
   "cell_type": "code",
   "execution_count": 25,
   "id": "c01d2972",
   "metadata": {},
   "outputs": [
    {
     "name": "stdout",
     "output_type": "stream",
     "text": [
      "enter 1st subject marks55\n",
      "enter 2nd subject marks66\n",
      "enter 3rd subject marks33\n",
      "C GRADE\n"
     ]
    }
   ],
   "source": [
    "a=int(input(\"enter 1st subject marks\")) #GRADING Q2\n",
    "b=int(input(\"enter 2nd subject marks\"))\n",
    "c=int(input(\"enter 3rd subject marks\"))\n",
    "avg=(a+b+c)/3\n",
    "if avg>=90 and avg<=100:\n",
    "    print(\"A GRADE\")\n",
    "elif avg>=60 and avg<=89:\n",
    "    print(\"B GRADE\")\n",
    "elif avg>=40 and avg<=60:\n",
    "    print(\"C GRADE\")\n",
    "else:\n",
    "    print(\"F GRADE\")\n"
   ]
  },
  {
   "cell_type": "code",
   "execution_count": null,
   "id": "3d2e5fc2",
   "metadata": {},
   "outputs": [],
   "source": [
    "a = int(input(\"ENTER NUMBER A=\")) #LARGEST AMONG 3\n",
    "b = int(input(\"ENTER NUMBER B=\"))\n",
    "c = int(input(\"ENTER NUMBER C=\"))\n",
    "\n",
    "if a > b:\n",
    "    if a > c:\n",
    "        print(\"A is largest\")\n",
    "    else:\n",
    "        print(\"C is largest\")\n",
    "elif b > c:\n",
    "    print(\"B is largest\")\n",
    "else:\n",
    "    print(\"C is largest\")\n",
    "\n",
    "\n",
    "    "
   ]
  },
  {
   "cell_type": "code",
   "execution_count": 5,
   "id": "2d4938a7",
   "metadata": {},
   "outputs": [
    {
     "data": {
      "text/plain": [
       "[1, 2, 3, 4, 5]"
      ]
     },
     "execution_count": 5,
     "metadata": {},
     "output_type": "execute_result"
    }
   ],
   "source": [
    "I=[1,2,3,4,5]\n",
    "I"
   ]
  },
  {
   "cell_type": "code",
   "execution_count": 4,
   "id": "e94d704c",
   "metadata": {},
   "outputs": [
    {
     "data": {
      "text/plain": [
       "['A', 'I', 'Y']"
      ]
     },
     "execution_count": 4,
     "metadata": {},
     "output_type": "execute_result"
    }
   ],
   "source": [
    "N=[\"A\",\"D\",\"I\",\"T\",\"Y\",\"A\"]\n",
    "P=N[0:6:2]\n",
    "P"
   ]
  },
  {
   "cell_type": "code",
   "execution_count": 6,
   "id": "98437ba0",
   "metadata": {},
   "outputs": [],
   "source": [
    "l=[1,2,3]\n",
    "l.append(4)"
   ]
  },
  {
   "cell_type": "code",
   "execution_count": 7,
   "id": "442a198f",
   "metadata": {},
   "outputs": [
    {
     "data": {
      "text/plain": [
       "[2, 3, 1]"
      ]
     },
     "execution_count": 7,
     "metadata": {},
     "output_type": "execute_result"
    }
   ],
   "source": [
    "l2=[2,3,1]\n",
    "l2"
   ]
  },
  {
   "cell_type": "code",
   "execution_count": 13,
   "id": "3770ca83",
   "metadata": {},
   "outputs": [
    {
     "data": {
      "text/plain": [
       "[1, 2, 3]"
      ]
     },
     "execution_count": 13,
     "metadata": {},
     "output_type": "execute_result"
    }
   ],
   "source": [
    "#TUPLE\n",
    "A=(1,2,3)\n",
    "a=list(A)\n",
    "a"
   ]
  },
  {
   "cell_type": "code",
   "execution_count": 15,
   "id": "b0265a92",
   "metadata": {},
   "outputs": [
    {
     "data": {
      "text/plain": [
       "[6, 3, 4, 5]"
      ]
     },
     "execution_count": 15,
     "metadata": {},
     "output_type": "execute_result"
    }
   ],
   "source": [
    "N1=(2,3,4,5)\n",
    "N1[0]=6  #error because tuple me index element change nhi ho skte(non mutalble)\n",
    "N1"
   ]
  },
  {
   "cell_type": "code",
   "execution_count": 18,
   "id": "68e8e01a",
   "metadata": {},
   "outputs": [
    {
     "data": {
      "text/plain": [
       "(1, 2, 3, 4, 5)"
      ]
     },
     "execution_count": 18,
     "metadata": {},
     "output_type": "execute_result"
    }
   ],
   "source": [
    "t1=(1,2,3)\n",
    "t2=(4,5)\n",
    "t1+=t2\n",
    "t1"
   ]
  },
  {
   "cell_type": "code",
   "execution_count": 24,
   "id": "cff1a7e1",
   "metadata": {},
   "outputs": [
    {
     "name": "stdout",
     "output_type": "stream",
     "text": [
      "L\n"
     ]
    }
   ],
   "source": [
    "l=[[\"Machine\",1],[\"Learning\",2]]\n",
    "print(l[1][0][0])"
   ]
  },
  {
   "cell_type": "code",
   "execution_count": null,
   "id": "0b20997d",
   "metadata": {},
   "outputs": [],
   "source": [
    "#DICTIONARY\n",
    "a={1:\"Name\",2}"
   ]
  }
 ],
 "metadata": {
  "kernelspec": {
   "display_name": "Python 3 (ipykernel)",
   "language": "python",
   "name": "python3"
  },
  "language_info": {
   "codemirror_mode": {
    "name": "ipython",
    "version": 3
   },
   "file_extension": ".py",
   "mimetype": "text/x-python",
   "name": "python",
   "nbconvert_exporter": "python",
   "pygments_lexer": "ipython3",
   "version": "3.11.5"
  }
 },
 "nbformat": 4,
 "nbformat_minor": 5
}
